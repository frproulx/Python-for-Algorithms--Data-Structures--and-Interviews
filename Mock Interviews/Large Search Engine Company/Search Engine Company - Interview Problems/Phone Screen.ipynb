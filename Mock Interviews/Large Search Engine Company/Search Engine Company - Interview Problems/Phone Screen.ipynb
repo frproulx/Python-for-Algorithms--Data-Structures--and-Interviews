{
 "cells": [
  {
   "cell_type": "markdown",
   "metadata": {},
   "source": [
    "# Phone Screen\n",
    "\n",
    "**This phone screen will consist of a non-technical series of questions about you and the company, and then a second half of a simple technical question to be coded out**\n",
    "___\n",
    "## Non-Technical Questions\n",
    "\n",
    "**Answer the following questions (2-5 minute responses) technical answers not required, more interested in hearing about your reasoning**"
   ]
  },
  {
   "cell_type": "markdown",
   "metadata": {},
   "source": [
    "* Give me some quick background about you (go over your resume)\n",
    "* Why do you want to work here?\n",
    "* What's your favorite programming language and why?\n",
    "* Where do you see yourself in 5 years?\n",
    "* Do you have any questions about the company for me?"
   ]
  },
  {
   "cell_type": "markdown",
   "metadata": {},
   "source": [
    "___"
   ]
  },
  {
   "cell_type": "markdown",
   "metadata": {},
   "source": [
    "___\n",
    "## Technical Questions\n",
    "\n",
    "**Answer the following question in the *Markdown* cell below. It's important to note that the cell below does NOT have syntax highlighting, its common in a phone screen interview to be given a text editor hich doesn't have anything more than basic text support**\n",
    "\n",
    "1. Write a function that computes the Nth fibonacci number"
   ]
  },
  {
   "cell_type": "code",
   "execution_count": 12,
   "metadata": {},
   "outputs": [],
   "source": [
    "fib_cache = {}\n",
    "\n",
    "def fib(n):\n",
    "    if n < 0:\n",
    "        return None\n",
    "    if not isinstance(n, int):\n",
    "        raise ValueError(\"n needs to be an integer\")\n",
    "    if n not in fib_cache.keys():\n",
    "        if n < 2:\n",
    "            fib_cache[n] = n\n",
    "        else:\n",
    "            fib_cache[n] = fib(n-2) + fib(n-1)\n",
    "    return fib_cache[n]"
   ]
  },
  {
   "cell_type": "code",
   "execution_count": 16,
   "metadata": {},
   "outputs": [
    {
     "name": "stdout",
     "output_type": "stream",
     "text": [
      "0\n",
      "1\n",
      "1\n",
      "2\n",
      "3\n",
      "5\n",
      "8\n",
      "13\n",
      "21\n",
      "34\n"
     ]
    }
   ],
   "source": [
    "for i in range(10):\n",
    "    print fib(i)"
   ]
  },
  {
   "cell_type": "markdown",
   "metadata": {},
   "source": [
    "# Good Job!"
   ]
  }
 ],
 "metadata": {
  "kernelspec": {
   "display_name": "Python 2",
   "language": "python",
   "name": "python2"
  },
  "language_info": {
   "codemirror_mode": {
    "name": "ipython",
    "version": 2
   },
   "file_extension": ".py",
   "mimetype": "text/x-python",
   "name": "python",
   "nbconvert_exporter": "python",
   "pygments_lexer": "ipython2",
   "version": "2.7.15"
  }
 },
 "nbformat": 4,
 "nbformat_minor": 1
}
